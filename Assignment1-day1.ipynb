{
  "nbformat": 4,
  "nbformat_minor": 0,
  "metadata": {
    "colab": {
      "provenance": [],
      "authorship_tag": "ABX9TyPQV9qM7qdkO00jN2AgFK56",
      "include_colab_link": true
    },
    "kernelspec": {
      "name": "python3",
      "display_name": "Python 3"
    },
    "language_info": {
      "name": "python"
    }
  },
  "cells": [
    {
      "cell_type": "markdown",
      "metadata": {
        "id": "view-in-github",
        "colab_type": "text"
      },
      "source": [
        "<a href=\"https://colab.research.google.com/github/Ishnaman24/Assignment1/blob/main/Assignment1-day1.ipynb\" target=\"_parent\"><img src=\"https://colab.research.google.com/assets/colab-badge.svg\" alt=\"Open In Colab\"/></a>"
      ]
    },
    {
      "cell_type": "code",
      "execution_count": 105,
      "metadata": {
        "colab": {
          "base_uri": "https://localhost:8080/"
        },
        "id": "o0neDBcDvZvF",
        "outputId": "4abbb3af-8a46-4007-b4f2-cef103ba3670"
      },
      "outputs": [
        {
          "output_type": "stream",
          "name": "stdout",
          "text": [
            "List after addition of 50,60 [11, 12, 13, 14, 50, 60]\n",
            "List after deletion of 11,13 [12, 14, 50, 60]\n",
            "Original List after sorting is  [11, 12, 13, 14]\n",
            "New list after sorting is  [12, 14, 50, 60]\n",
            "Original List after reverse sorting is  [14, 13, 12, 11]\n",
            "New List after reverse sorting is  [60, 50, 14, 12]\n",
            "Original List  True\n",
            " 13 is Present\n",
            "Number of elements present in the List are  4\n",
            "Sum of all elements of new list is 136\n",
            "Sum of all elements of original list is 50\n",
            "Sum of odd numbers in list is 24\n",
            "Sum of even numbers in list is 26\n",
            "Sum of prime numbers in L: 24\n",
            "List after clearing all elements []\n",
            "List has been deleted\n"
          ]
        }
      ],
      "source": [
        "L = [11,12,13,14]\n",
        "Lis = [11,12,13,14]\n",
        "L.append(50)\n",
        "L.append(60)\n",
        "print(\"List after addition of 50,60\",L)\n",
        "del L[0]\n",
        "del L[1]\n",
        "print(\"List after deletion of 11,13\",L)\n",
        "Lis.sort()\n",
        "L.sort()\n",
        "print(\"Original List after sorting is \",Lis)\n",
        "print(\"New list after sorting is \",L)\n",
        "Lis.sort(reverse = True)\n",
        "L.sort(reverse = True)\n",
        "print(\"Original List after reverse sorting is \",Lis)\n",
        "print(\"New List after reverse sorting is \",L)\n",
        "print(\"Original List \",13 in Lis)\n",
        "if (13 in Lis) == True:\n",
        "  print(\" 13 is Present\")\n",
        "else:\n",
        "    print(\"Not Present\")\n",
        "print(\"Number of elements present in the List are \",len(L))\n",
        "print(\"Sum of all elements of new list is\", sum(L))\n",
        "print(\"Sum of all elements of original list is\", sum(Lis))\n",
        "Lis = [11,12,13,14]\n",
        "print(\"Sum of odd numbers in list is\",sum(i for i in Lis if i%2 == 1))\n",
        "Lis = [11,12,13,14]\n",
        "print(\"Sum of even numbers in list is\",sum(i for i in Lis if i%2 == 0))\n",
        "Lis.clear()\n",
        "def is_prime(num):\n",
        "    if num < 2:\n",
        "        return False\n",
        "    for i in range(2, int(num ** 0.5) + 1):\n",
        "        if num % i == 0:\n",
        "            return False\n",
        "    return True\n",
        "\n",
        "L = [11, 12, 13, 14]\n",
        "\n",
        "prime_sum = sum(num for num in L if is_prime(num))\n",
        "print(\"Sum of prime numbers in L:\", prime_sum)\n",
        "\n",
        "print(\"List after clearing all elements\",Lis)\n",
        "del Lis\n",
        "print(\"List has been deleted\")\n",
        "\n"
      ]
    },
    {
      "cell_type": "code",
      "source": [
        "D = {1:5.6, 2:7.8, 3:6.6, 4:8.7, 5:7.7}\n",
        "Di = {1:5.6, 2:7.8, 3:6.6, 4:8.7, 5:7.7}\n",
        "print(\"Dictionary\",D)\n",
        "D[8]= 8.8\n",
        "print(\"Dictionary after addition\",D)\n",
        "del D[2]\n",
        "print(\"Dictionary after removal key 2\",D)\n",
        "print(\"Is key 6 present ?\", 6 in D)\n",
        "print(\"Number of elements in Dictionary are\", len(D))\n",
        "print(\"Sum of all values of original is \",sum(Di.values()))\n",
        "print(\"Sum of all values of new is \",sum(D.values()))\n",
        "D[3]= 7.1\n",
        "print(\"Value after updation is\",D)\n",
        "D.clear()\n",
        "print(\"After Clearing\",D)"
      ],
      "metadata": {
        "colab": {
          "base_uri": "https://localhost:8080/"
        },
        "id": "WJ29kJXw9_Ew",
        "outputId": "f6eff861-f8d6-440f-e03d-14c8b556f1ef"
      },
      "execution_count": 44,
      "outputs": [
        {
          "output_type": "stream",
          "name": "stdout",
          "text": [
            "Dictionary {1: 5.6, 2: 7.8, 3: 6.6, 4: 8.7, 5: 7.7}\n",
            "Dictionary after addition {1: 5.6, 2: 7.8, 3: 6.6, 4: 8.7, 5: 7.7, 8: 8.8}\n",
            "Dictionary after removal key 2 {1: 5.6, 3: 6.6, 4: 8.7, 5: 7.7, 8: 8.8}\n",
            "Is key 6 present ? False\n",
            "Number of elements in Dictionary are 5\n",
            "Sum of all values of original is  36.4\n",
            "Sum of all values of new is  37.4\n",
            "Value after updation is {1: 5.6, 3: 7.1, 4: 8.7, 5: 7.7, 8: 8.8}\n",
            "After Clearing {}\n"
          ]
        }
      ]
    },
    {
      "cell_type": "code",
      "source": [
        "S1 = set([10,20,30,40,50,60])\n",
        "S1New = set([10,20,30,40,50,60])\n",
        "S2 = set([40,50,60,70,80,90])\n",
        "S1.add(55)\n",
        "S1.add(66)\n",
        "print(\"Set 1 after adding 55 and 66  \", S1)\n",
        "S1.remove(10)\n",
        "S1.remove(30)\n",
        "print(\"Set 1 after removal of 10 and 30 \",S1)\n",
        "print(\"Is 40 present in S1?\",40 in S1)\n",
        "print(\"Union of S1 and S2 is\", S1New.union(S2))\n",
        "print(\"Union of S1 and S2 is\", S1New.intersection(S2))\n",
        "print(\"Difference between S1 and S2 is\",S1New-S2)\n",
        "\n"
      ],
      "metadata": {
        "colab": {
          "base_uri": "https://localhost:8080/"
        },
        "id": "blOgQFODCd7v",
        "outputId": "9850f159-7193-4b3f-ce7a-d217e9640ce5"
      },
      "execution_count": 58,
      "outputs": [
        {
          "output_type": "stream",
          "name": "stdout",
          "text": [
            "Set 1 after adding 55 and 66   {66, 40, 10, 50, 20, 55, 60, 30}\n",
            "Set 1 after removal of 10 and 30  {66, 40, 50, 20, 55, 60}\n",
            "Is 40 present in S1? True\n",
            "Union of S1 and S2 is {70, 40, 10, 80, 50, 20, 90, 60, 30}\n",
            "Union of S1 and S2 is {40, 50, 60}\n",
            "Difference between S1 and S2 is {10, 20, 30}\n"
          ]
        }
      ]
    },
    {
      "cell_type": "code",
      "source": [
        "import string as s\n",
        "import random as r\n",
        "print (\"String + Digits \",s.ascii_letters + s.digits)\n",
        "\n",
        "for i in range(100):\n",
        "  outputstring=r.sample(s.ascii_letters + s.digits, 7)\n",
        "  outputstring=\"\".join(outputstring)\n",
        "  print (\"new string    --> \",outputstring)"
      ],
      "metadata": {
        "colab": {
          "base_uri": "https://localhost:8080/"
        },
        "id": "m6wzTE5cGliL",
        "outputId": "1476bdda-8af6-4434-f5d5-50ba2f95f1e2"
      },
      "execution_count": 64,
      "outputs": [
        {
          "output_type": "stream",
          "name": "stdout",
          "text": [
            "String + Digits  abcdefghijklmnopqrstuvwxyzABCDEFGHIJKLMNOPQRSTUVWXYZ0123456789\n",
            "new string    -->  d4w1QxY\n",
            "new string    -->  y7NhrUW\n",
            "new string    -->  aDRL081\n",
            "new string    -->  Xcb4whC\n",
            "new string    -->  P1ZJung\n",
            "new string    -->  W1pVgji\n",
            "new string    -->  UopzIX6\n",
            "new string    -->  Q09NT4V\n",
            "new string    -->  3Adv1ET\n",
            "new string    -->  09fTMuz\n",
            "new string    -->  GCveHql\n",
            "new string    -->  YPbxyk3\n",
            "new string    -->  uHT0IzV\n",
            "new string    -->  2gLBSbe\n",
            "new string    -->  zqBuEDm\n",
            "new string    -->  0Ncr4AC\n",
            "new string    -->  WGUxhib\n",
            "new string    -->  dKh8YyI\n",
            "new string    -->  seuiFrm\n",
            "new string    -->  WNJejVp\n",
            "new string    -->  XfRcdHe\n",
            "new string    -->  udgXQf6\n",
            "new string    -->  lTboIjS\n",
            "new string    -->  b8ipgFW\n",
            "new string    -->  QEui5fg\n",
            "new string    -->  9JjTFYw\n",
            "new string    -->  aN9UYjS\n",
            "new string    -->  ObWupAD\n",
            "new string    -->  ksgjzyE\n",
            "new string    -->  tWKVvXh\n",
            "new string    -->  1bvETo9\n",
            "new string    -->  SWmfohG\n",
            "new string    -->  l2Sjud8\n",
            "new string    -->  6Pl8Ved\n",
            "new string    -->  LVjcWIJ\n",
            "new string    -->  V08JKhs\n",
            "new string    -->  Kp4c3ej\n",
            "new string    -->  hqAuU0P\n",
            "new string    -->  uyzS8HM\n",
            "new string    -->  2k5dquC\n",
            "new string    -->  8R7Bbva\n",
            "new string    -->  1IDb9he\n",
            "new string    -->  oDI06ym\n",
            "new string    -->  mYylVbi\n",
            "new string    -->  RaZdeLh\n",
            "new string    -->  lHU7Nm8\n",
            "new string    -->  usQwmTZ\n",
            "new string    -->  dutKXH3\n",
            "new string    -->  0zI8HpU\n",
            "new string    -->  Zio0Bem\n",
            "new string    -->  lutipyY\n",
            "new string    -->  WR5xV8Q\n",
            "new string    -->  hJI7i5z\n",
            "new string    -->  ZzXmMQc\n",
            "new string    -->  9RGCk4o\n",
            "new string    -->  M1CRF0Q\n",
            "new string    -->  hW0nlzB\n",
            "new string    -->  28fbs9t\n",
            "new string    -->  RUDZbYj\n",
            "new string    -->  YdZ53eo\n",
            "new string    -->  iNJZ2lS\n",
            "new string    -->  hrFQezq\n",
            "new string    -->  K6Lf9MH\n",
            "new string    -->  vCgbcZm\n",
            "new string    -->  b21TaHz\n",
            "new string    -->  5Jp6xq2\n",
            "new string    -->  vPOZQYW\n",
            "new string    -->  Zw3j2W0\n",
            "new string    -->  IUG3Dgx\n",
            "new string    -->  E4DnF7u\n",
            "new string    -->  0j4HDY2\n",
            "new string    -->  OTsFRUl\n",
            "new string    -->  JPryzYs\n",
            "new string    -->  Bp3jyCk\n",
            "new string    -->  bCczs6v\n",
            "new string    -->  dubFMqB\n",
            "new string    -->  mTCc4jR\n",
            "new string    -->  AKBdInT\n",
            "new string    -->  hPAKqLX\n",
            "new string    -->  JRxbf0s\n",
            "new string    -->  6HYgyIV\n",
            "new string    -->  j9XzZlf\n",
            "new string    -->  J5R30r9\n",
            "new string    -->  UJMArS5\n",
            "new string    -->  x5MiEUa\n",
            "new string    -->  rekLUHz\n",
            "new string    -->  2MmlybR\n",
            "new string    -->  hfrLe4A\n",
            "new string    -->  yW95znf\n",
            "new string    -->  owQxIhF\n",
            "new string    -->  bRkMKX1\n",
            "new string    -->  HvDFUzp\n",
            "new string    -->  01DhzQS\n",
            "new string    -->  JopOFQm\n",
            "new string    -->  VW6LjbX\n",
            "new string    -->  35b68Ke\n",
            "new string    -->  Y3W2eKq\n",
            "new string    -->  EqHJZmA\n",
            "new string    -->  yHQXl7k\n",
            "new string    -->  F4I6fOv\n"
          ]
        }
      ]
    },
    {
      "cell_type": "code",
      "source": [
        "def IsPrime(n):\n",
        "\tfor i in range(2, n//2 + 1):\n",
        "\t\tif n%i==0:\n",
        "\t\t\treturn 0\n",
        "\treturn 1\n",
        "\n",
        "for i in range(600,801):\n",
        "\tif IsPrime(i) == 1:\n",
        "\t\tprint(i,end=' ')"
      ],
      "metadata": {
        "colab": {
          "base_uri": "https://localhost:8080/"
        },
        "id": "eOD9yCWIKUNT",
        "outputId": "a2f93047-a01a-430c-fbfb-9dfbb1067116"
      },
      "execution_count": 65,
      "outputs": [
        {
          "output_type": "stream",
          "name": "stdout",
          "text": [
            "601 607 613 617 619 631 641 643 647 653 659 661 673 677 683 691 701 709 719 727 733 739 743 751 757 761 769 773 787 797 "
          ]
        }
      ]
    },
    {
      "cell_type": "code",
      "source": [
        "for i in range (100,1001):\n",
        "  if i%63==0:\n",
        "    print(\"Numbers divisible by 7 and 9 are \",i)"
      ],
      "metadata": {
        "colab": {
          "base_uri": "https://localhost:8080/"
        },
        "id": "-mbBpAWFKviE",
        "outputId": "c6286714-0687-4d78-f733-e183802f2562"
      },
      "execution_count": 66,
      "outputs": [
        {
          "output_type": "stream",
          "name": "stdout",
          "text": [
            "Numbers divisible by 7 and 9 are  126\n",
            "Numbers divisible by 7 and 9 are  189\n",
            "Numbers divisible by 7 and 9 are  252\n",
            "Numbers divisible by 7 and 9 are  315\n",
            "Numbers divisible by 7 and 9 are  378\n",
            "Numbers divisible by 7 and 9 are  441\n",
            "Numbers divisible by 7 and 9 are  504\n",
            "Numbers divisible by 7 and 9 are  567\n",
            "Numbers divisible by 7 and 9 are  630\n",
            "Numbers divisible by 7 and 9 are  693\n",
            "Numbers divisible by 7 and 9 are  756\n",
            "Numbers divisible by 7 and 9 are  819\n",
            "Numbers divisible by 7 and 9 are  882\n",
            "Numbers divisible by 7 and 9 are  945\n"
          ]
        }
      ]
    },
    {
      "cell_type": "code",
      "source": [
        "import random as r\n",
        "\n",
        "list1 = r.sample(range(10, 31), 10)\n",
        "list2 = r.sample(range(10, 31), 10)\n",
        "\n",
        "print(\"List 1:\", list1)\n",
        "print(\"List 2:\", list2)\n",
        "\n",
        "s1= set(list1)\n",
        "print(\"Set 1 is\",s1)\n",
        "s2= set(list2)\n",
        "print(\"Set 2 is\",s2)\n",
        "\n",
        "common_elements = s1.intersection(s2)\n",
        "print(\"Common elements of both lists are \",common_elements)\n",
        "\n",
        "unique_elements = s1.union(s2)-s1.intersection(s2)\n",
        "print(\"Unique elements of both lists are \", unique_elements)\n",
        "\n",
        "mini = min(min(list1),min(list2))\n",
        "print(\"Minimum element is \",mini)\n",
        "\n",
        "maxi = max(max(list1),max(list2))\n",
        "print(\"Maximum element is \",maxi)\n",
        "\n",
        "sum1 = sum(list1) + sum(list2)\n",
        "print(\"Sum of both the lists is \",sum1)\n",
        "\n",
        "\n"
      ],
      "metadata": {
        "colab": {
          "base_uri": "https://localhost:8080/"
        },
        "id": "NvD9jpD_LRKr",
        "outputId": "170a13eb-a953-40b0-9d57-865af220919f"
      },
      "execution_count": 78,
      "outputs": [
        {
          "output_type": "stream",
          "name": "stdout",
          "text": [
            "List 1: [18, 29, 22, 20, 15, 11, 14, 24, 27, 16]\n",
            "List 2: [17, 12, 22, 13, 24, 19, 30, 23, 29, 25]\n",
            "Set 1 is {11, 14, 15, 16, 18, 20, 22, 24, 27, 29}\n",
            "Set 2 is {12, 13, 17, 19, 22, 23, 24, 25, 29, 30}\n",
            "Common elements of both lists are  {24, 29, 22}\n",
            "Unique elements of both lists are  {11, 12, 13, 14, 15, 16, 17, 18, 19, 20, 23, 25, 27, 30}\n",
            "Minimum element is  11\n",
            "Maximum element is  30\n",
            "Sum of both the lists is  410\n"
          ]
        }
      ]
    },
    {
      "cell_type": "code",
      "source": [
        "import random as r\n",
        "\n",
        "L = r.sample(range(100, 901), 100)\n",
        "print(\"List 1:\", L)\n",
        "for i in L:\n",
        "  if i%2 == 1:\n",
        "    print(\"Odd numbers are \",i)\n",
        "\n",
        "for i in L:\n",
        "  if i%2 == 0:\n",
        "    print(\"Even numbers are \",i)\n",
        "\n",
        "\n",
        "def IsPrime(n):\n",
        "\tfor i in range(2, n//2 + 1):\n",
        "\t\tif n%i==0:\n",
        "\t\t\treturn 0\n",
        "\treturn 1\n",
        "\n",
        "for i in range(100,901):\n",
        "\tif IsPrime(i) == 1:\n",
        "\t\tprint(\"Prime numbers are\",i)\n"
      ],
      "metadata": {
        "colab": {
          "base_uri": "https://localhost:8080/"
        },
        "id": "abvLRCIjRCaf",
        "outputId": "e5828f38-ef5f-46bd-ddb6-cdc7fa758f06"
      },
      "execution_count": 86,
      "outputs": [
        {
          "output_type": "stream",
          "name": "stdout",
          "text": [
            "List 1: [331, 703, 496, 891, 329, 843, 463, 743, 233, 772, 420, 190, 662, 429, 153, 533, 865, 719, 656, 839, 250, 385, 716, 787, 853, 761, 519, 622, 823, 391, 196, 332, 565, 633, 194, 118, 867, 437, 374, 382, 729, 757, 354, 783, 552, 606, 476, 273, 375, 210, 668, 170, 556, 718, 497, 381, 871, 280, 319, 175, 416, 510, 899, 370, 797, 235, 614, 755, 756, 584, 430, 602, 407, 115, 817, 304, 469, 362, 106, 545, 412, 640, 246, 359, 149, 647, 339, 815, 767, 127, 108, 646, 282, 813, 254, 559, 228, 464, 306, 700]\n",
            "Odd numbers are  331\n",
            "Odd numbers are  703\n",
            "Odd numbers are  891\n",
            "Odd numbers are  329\n",
            "Odd numbers are  843\n",
            "Odd numbers are  463\n",
            "Odd numbers are  743\n",
            "Odd numbers are  233\n",
            "Odd numbers are  429\n",
            "Odd numbers are  153\n",
            "Odd numbers are  533\n",
            "Odd numbers are  865\n",
            "Odd numbers are  719\n",
            "Odd numbers are  839\n",
            "Odd numbers are  385\n",
            "Odd numbers are  787\n",
            "Odd numbers are  853\n",
            "Odd numbers are  761\n",
            "Odd numbers are  519\n",
            "Odd numbers are  823\n",
            "Odd numbers are  391\n",
            "Odd numbers are  565\n",
            "Odd numbers are  633\n",
            "Odd numbers are  867\n",
            "Odd numbers are  437\n",
            "Odd numbers are  729\n",
            "Odd numbers are  757\n",
            "Odd numbers are  783\n",
            "Odd numbers are  273\n",
            "Odd numbers are  375\n",
            "Odd numbers are  497\n",
            "Odd numbers are  381\n",
            "Odd numbers are  871\n",
            "Odd numbers are  319\n",
            "Odd numbers are  175\n",
            "Odd numbers are  899\n",
            "Odd numbers are  797\n",
            "Odd numbers are  235\n",
            "Odd numbers are  755\n",
            "Odd numbers are  407\n",
            "Odd numbers are  115\n",
            "Odd numbers are  817\n",
            "Odd numbers are  469\n",
            "Odd numbers are  545\n",
            "Odd numbers are  359\n",
            "Odd numbers are  149\n",
            "Odd numbers are  647\n",
            "Odd numbers are  339\n",
            "Odd numbers are  815\n",
            "Odd numbers are  767\n",
            "Odd numbers are  127\n",
            "Odd numbers are  813\n",
            "Odd numbers are  559\n",
            "Even numbers are  496\n",
            "Even numbers are  772\n",
            "Even numbers are  420\n",
            "Even numbers are  190\n",
            "Even numbers are  662\n",
            "Even numbers are  656\n",
            "Even numbers are  250\n",
            "Even numbers are  716\n",
            "Even numbers are  622\n",
            "Even numbers are  196\n",
            "Even numbers are  332\n",
            "Even numbers are  194\n",
            "Even numbers are  118\n",
            "Even numbers are  374\n",
            "Even numbers are  382\n",
            "Even numbers are  354\n",
            "Even numbers are  552\n",
            "Even numbers are  606\n",
            "Even numbers are  476\n",
            "Even numbers are  210\n",
            "Even numbers are  668\n",
            "Even numbers are  170\n",
            "Even numbers are  556\n",
            "Even numbers are  718\n",
            "Even numbers are  280\n",
            "Even numbers are  416\n",
            "Even numbers are  510\n",
            "Even numbers are  370\n",
            "Even numbers are  614\n",
            "Even numbers are  756\n",
            "Even numbers are  584\n",
            "Even numbers are  430\n",
            "Even numbers are  602\n",
            "Even numbers are  304\n",
            "Even numbers are  362\n",
            "Even numbers are  106\n",
            "Even numbers are  412\n",
            "Even numbers are  640\n",
            "Even numbers are  246\n",
            "Even numbers are  108\n",
            "Even numbers are  646\n",
            "Even numbers are  282\n",
            "Even numbers are  254\n",
            "Even numbers are  228\n",
            "Even numbers are  464\n",
            "Even numbers are  306\n",
            "Even numbers are  700\n",
            "Prime numbers are 101\n",
            "Prime numbers are 103\n",
            "Prime numbers are 107\n",
            "Prime numbers are 109\n",
            "Prime numbers are 113\n",
            "Prime numbers are 127\n",
            "Prime numbers are 131\n",
            "Prime numbers are 137\n",
            "Prime numbers are 139\n",
            "Prime numbers are 149\n",
            "Prime numbers are 151\n",
            "Prime numbers are 157\n",
            "Prime numbers are 163\n",
            "Prime numbers are 167\n",
            "Prime numbers are 173\n",
            "Prime numbers are 179\n",
            "Prime numbers are 181\n",
            "Prime numbers are 191\n",
            "Prime numbers are 193\n",
            "Prime numbers are 197\n",
            "Prime numbers are 199\n",
            "Prime numbers are 211\n",
            "Prime numbers are 223\n",
            "Prime numbers are 227\n",
            "Prime numbers are 229\n",
            "Prime numbers are 233\n",
            "Prime numbers are 239\n",
            "Prime numbers are 241\n",
            "Prime numbers are 251\n",
            "Prime numbers are 257\n",
            "Prime numbers are 263\n",
            "Prime numbers are 269\n",
            "Prime numbers are 271\n",
            "Prime numbers are 277\n",
            "Prime numbers are 281\n",
            "Prime numbers are 283\n",
            "Prime numbers are 293\n",
            "Prime numbers are 307\n",
            "Prime numbers are 311\n",
            "Prime numbers are 313\n",
            "Prime numbers are 317\n",
            "Prime numbers are 331\n",
            "Prime numbers are 337\n",
            "Prime numbers are 347\n",
            "Prime numbers are 349\n",
            "Prime numbers are 353\n",
            "Prime numbers are 359\n",
            "Prime numbers are 367\n",
            "Prime numbers are 373\n",
            "Prime numbers are 379\n",
            "Prime numbers are 383\n",
            "Prime numbers are 389\n",
            "Prime numbers are 397\n",
            "Prime numbers are 401\n",
            "Prime numbers are 409\n",
            "Prime numbers are 419\n",
            "Prime numbers are 421\n",
            "Prime numbers are 431\n",
            "Prime numbers are 433\n",
            "Prime numbers are 439\n",
            "Prime numbers are 443\n",
            "Prime numbers are 449\n",
            "Prime numbers are 457\n",
            "Prime numbers are 461\n",
            "Prime numbers are 463\n",
            "Prime numbers are 467\n",
            "Prime numbers are 479\n",
            "Prime numbers are 487\n",
            "Prime numbers are 491\n",
            "Prime numbers are 499\n",
            "Prime numbers are 503\n",
            "Prime numbers are 509\n",
            "Prime numbers are 521\n",
            "Prime numbers are 523\n",
            "Prime numbers are 541\n",
            "Prime numbers are 547\n",
            "Prime numbers are 557\n",
            "Prime numbers are 563\n",
            "Prime numbers are 569\n",
            "Prime numbers are 571\n",
            "Prime numbers are 577\n",
            "Prime numbers are 587\n",
            "Prime numbers are 593\n",
            "Prime numbers are 599\n",
            "Prime numbers are 601\n",
            "Prime numbers are 607\n",
            "Prime numbers are 613\n",
            "Prime numbers are 617\n",
            "Prime numbers are 619\n",
            "Prime numbers are 631\n",
            "Prime numbers are 641\n",
            "Prime numbers are 643\n",
            "Prime numbers are 647\n",
            "Prime numbers are 653\n",
            "Prime numbers are 659\n",
            "Prime numbers are 661\n",
            "Prime numbers are 673\n",
            "Prime numbers are 677\n",
            "Prime numbers are 683\n",
            "Prime numbers are 691\n",
            "Prime numbers are 701\n",
            "Prime numbers are 709\n",
            "Prime numbers are 719\n",
            "Prime numbers are 727\n",
            "Prime numbers are 733\n",
            "Prime numbers are 739\n",
            "Prime numbers are 743\n",
            "Prime numbers are 751\n",
            "Prime numbers are 757\n",
            "Prime numbers are 761\n",
            "Prime numbers are 769\n",
            "Prime numbers are 773\n",
            "Prime numbers are 787\n",
            "Prime numbers are 797\n",
            "Prime numbers are 809\n",
            "Prime numbers are 811\n",
            "Prime numbers are 821\n",
            "Prime numbers are 823\n",
            "Prime numbers are 827\n",
            "Prime numbers are 829\n",
            "Prime numbers are 839\n",
            "Prime numbers are 853\n",
            "Prime numbers are 857\n",
            "Prime numbers are 859\n",
            "Prime numbers are 863\n",
            "Prime numbers are 877\n",
            "Prime numbers are 881\n",
            "Prime numbers are 883\n",
            "Prime numbers are 887\n"
          ]
        }
      ]
    },
    {
      "cell_type": "code",
      "source": [
        "D={1:\"One\",2:\"Two\",3:\"Three\",4:\"Four\", 5:\"Five\"}\n",
        "print(\"Dictionary is \",D)\n",
        "print(\"Keys are\",list(D.keys()))\n",
        "print(\"Values are\",list(D.values()))\n",
        "\n",
        "with open(\"dictionary_output.txt\", \"w\") as file:\n",
        " for key, value in D.items():\n",
        "  file.write(str(key) + \", \" + str(value) + \"\\n\")\n",
        "\n",
        "\n",
        "\n",
        "\n",
        "\n"
      ],
      "metadata": {
        "colab": {
          "base_uri": "https://localhost:8080/"
        },
        "id": "nLjMUQYRTsmJ",
        "outputId": "15de28b4-f857-4fea-c2fa-dc3f609f1a41"
      },
      "execution_count": 90,
      "outputs": [
        {
          "output_type": "stream",
          "name": "stdout",
          "text": [
            "Dictionary is  {1: 'One', 2: 'Two', 3: 'Three', 4: 'Four', 5: 'Five'}\n",
            "Keys are [1, 2, 3, 4, 5]\n",
            "Values are ['One', 'Two', 'Three', 'Four', 'Five']\n"
          ]
        }
      ]
    },
    {
      "cell_type": "code",
      "source": [
        "L = [\"One\", \"Two\", \"Three\", \"Four\", \"Five\"]\n",
        "\n",
        "with open(\"list_output.txt\", \"w\") as file:\n",
        "    \n",
        "    for element in L:\n",
        "        \n",
        "        length = len(element)\n",
        "        \n",
        "        file.write(element + \", \" + str(length) + \"\\n\")"
      ],
      "metadata": {
        "id": "IwZATx2rWOBE"
      },
      "execution_count": 91,
      "outputs": []
    },
    {
      "cell_type": "code",
      "source": [
        "import random\n",
        "import string\n",
        "\n",
        "\n",
        "min_length = 10\n",
        "max_length = 15\n",
        "\n",
        "\n",
        "random_strings = []\n",
        "for _ in range(100):\n",
        "    \n",
        "    length = random.randint(min_length, max_length)\n",
        "    \n",
        "    \n",
        "    random_string = ''.join(random.choices(string.ascii_letters, k=length))\n",
        "    random_strings.append(random_string)\n",
        "\n",
        "\n",
        "with open(\"random_strings_output.txt\", \"w\") as file:\n",
        "    for string in random_strings:\n",
        "        file.write(string + \"\\n\")\n"
      ],
      "metadata": {
        "id": "8Ugt1NlzXDFf"
      },
      "execution_count": 92,
      "outputs": []
    },
    {
      "cell_type": "code",
      "source": [
        "def is_prime(num):\n",
        "    if num < 2:\n",
        "        return False\n",
        "    for i in range(2, int(num ** 0.5) + 1):\n",
        "        if num % i == 0:\n",
        "            return False\n",
        "    return True\n",
        "\n",
        "\n",
        "prime_numbers = [num for num in range(600, 801) if is_prime(num)]\n",
        "\n",
        "\n",
        "with open(\"prime_numbers_output.txt\", \"w\") as file:\n",
        "    for number in prime_numbers:\n",
        "        file.write(str(number) + \"\\n\")\n"
      ],
      "metadata": {
        "id": "ZP10OXvrXN-M"
      },
      "execution_count": 100,
      "outputs": []
    },
    {
      "cell_type": "code",
      "source": [
        "from timeit import default_timer as timer\n",
        "\n",
        "start = timer()\n",
        "\n",
        "print(23*2.3)\n",
        "\n",
        "end = timer()\n",
        "print(end - start)\n",
        "import time\n",
        "\n",
        "start = time.time()\n",
        "\n",
        "print(23*2.3)\n",
        "\n",
        "end = time.time()\n",
        "print(end - start)"
      ],
      "metadata": {
        "colab": {
          "base_uri": "https://localhost:8080/"
        },
        "id": "ZxixTNPxZM86",
        "outputId": "edc10e21-2b59-4507-e95b-d169a7aa3298"
      },
      "execution_count": 101,
      "outputs": [
        {
          "output_type": "stream",
          "name": "stdout",
          "text": [
            "52.9\n",
            "0.001756473999193986\n",
            "52.9\n",
            "0.0037593841552734375\n"
          ]
        }
      ]
    },
    {
      "cell_type": "code",
      "source": [
        "import time\n",
        "import matplotlib.pyplot as plt\n",
        "\n",
        "def sort_list(elements):\n",
        "   \n",
        "    start_time = time.time()\n",
        "\n",
        "    \n",
        "    sorted_list = sorted(elements)\n",
        "\n",
        "   \n",
        "    elapsed_time = time.time() - start_time\n",
        "\n",
        "    return elapsed_time\n",
        "\n",
        "\n",
        "num_elements = [5000, 10000, 15000, 20000, 25000]\n",
        "\n",
        "times = []\n",
        "\n",
        "\n",
        "for num in num_elements:\n",
        "    \n",
        "    elements = list(range(num))\n",
        "    \n",
        "    random.shuffle(elements)\n",
        "    \n",
        "    elapsed_time = sort_list(elements)\n",
        "    times.append(elapsed_time)\n",
        "\n",
        "\n",
        "plt.plot(num_elements, times, 'bo-')\n",
        "plt.xlabel('Number of Elements')\n",
        "plt.ylabel('Time Taken (seconds)')\n",
        "plt.title('Sorting Time vs Number of Elements')\n",
        "plt.show()\n"
      ],
      "metadata": {
        "colab": {
          "base_uri": "https://localhost:8080/",
          "height": 472
        },
        "id": "1rURW1GAZU_I",
        "outputId": "e4291820-68b6-4009-f502-cbdc9447f3da"
      },
      "execution_count": 102,
      "outputs": [
        {
          "output_type": "display_data",
          "data": {
            "text/plain": [
              "<Figure size 640x480 with 1 Axes>"
            ],
            "image/png": "[encoded data removed]"
          },
          "metadata": {}
        }
      ]
    },
    {
      "cell_type": "code",
      "source": [
        "\n",
        "student_marks = {\n",
        "    'A': [90, 85, 92, 88, 95],\n",
        "    'B': [78, 45, 80, 75, 85],\n",
        "    'C': [95, 90, 72, 88, 95],\n",
        "    'D': [82, 69, 78, 55, 90],\n",
        "    'E': [68, 90, 85, 82, 80]\n",
        "}\n",
        "\n",
        "\n",
        "average_marks = {student: sum(marks) / len(marks) for student, marks in student_marks.items()}\n",
        "\n",
        "\n",
        "max_student = max(average_marks, key=average_marks.get)\n",
        "max_marks = average_marks[max_student]\n",
        "\n",
        "\n",
        "min_student = min(average_marks, key=average_marks.get)\n",
        "min_marks = average_marks[min_student]\n",
        "\n",
        "\n",
        "print(\"Student with maximum average marks:\")\n",
        "print(\"Name:\", max_student)\n",
        "print(\"Average Marks:\", max_marks)\n",
        "print()\n",
        "print(\"Student with minimum average marks:\")\n",
        "print(\"Name:\", min_student)\n",
        "print(\"Average Marks:\", min_marks)\n"
      ],
      "metadata": {
        "colab": {
          "base_uri": "https://localhost:8080/"
        },
        "id": "v26e2brVacy9",
        "outputId": "254238db-e516-4236-d479-cb828ffc6818"
      },
      "execution_count": 104,
      "outputs": [
        {
          "output_type": "stream",
          "name": "stdout",
          "text": [
            "Student with maximum average marks:\n",
            "Name: A\n",
            "Average Marks: 90.0\n",
            "\n",
            "Student with minimum average marks:\n",
            "Name: B\n",
            "Average Marks: 72.6\n"
          ]
        }
      ]
    }
  ]
}